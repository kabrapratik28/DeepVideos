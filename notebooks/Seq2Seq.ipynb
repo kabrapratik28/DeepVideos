{
 "cells": [
  {
   "cell_type": "code",
   "execution_count": 102,
   "metadata": {
    "collapsed": true
   },
   "outputs": [],
   "source": [
    "# TensorFlow Model !\n",
    "import os\n",
    "import shutil\n",
    "import numpy as np\n",
    "import tensorflow as tf\n",
    "tf.reset_default_graph()\n",
    "from cell import ConvLSTMCell\n",
    "import sys\n",
    "module_path = os.path.join(\"/home/pratik/work/dl/deepvideos/model/../\")\n",
    "if module_path not in sys.path:\n",
    "    sys.path.append(module_path)\n",
    "from datasets.batch_generator import datasets\n",
    "slim = tf.contrib.slim\n",
    "from tensorflow.python.ops import init_ops\n",
    "from tensorflow.contrib.layers.python.layers import regularizers\n",
    "trunc_normal = lambda stddev: init_ops.truncated_normal_initializer(0.0, stddev)\n",
    "l2_val = 0.00005"
   ]
  },
  {
   "cell_type": "code",
   "execution_count": 46,
   "metadata": {
    "collapsed": true
   },
   "outputs": [],
   "source": [
    "# For looped RNN\n",
    "batch_size = 4\n",
    "timesteps = 4\n",
    "conv_data_timesteps = timesteps * 2\n",
    "shape = [64, 64]  # Image shape\n",
    "H, W, C = 64, 64, 3\n",
    "kernel = [5, 5]\n",
    "channels = 3\n",
    "filters = [128, 128]  # 2 stacked conv lstm filters"
   ]
  },
  {
   "cell_type": "code",
   "execution_count": 47,
   "metadata": {
    "collapsed": true
   },
   "outputs": [],
   "source": [
    "inp = tf.placeholder(tf.float32,(batch_size, conv_data_timesteps, H, W, C))\n",
    "inp_to_conv_layer = tf.reshape(inp,[-1,H,W,C])"
   ]
  },
  {
   "cell_type": "code",
   "execution_count": 48,
   "metadata": {
    "collapsed": true
   },
   "outputs": [],
   "source": [
    "def conv_layer(inp,reuse):\n",
    "    with tf.variable_scope('conv_before_lstm',reuse=reuse):\n",
    "        net = slim.conv2d(inp, 128, [7,7], scope='conv_1',weights_initializer=trunc_normal(0.01))\n",
    "        print net\n",
    "        net = slim.conv2d(net, 256, [5,5], scope='conv_2',weights_initializer=trunc_normal(0.01))\n",
    "        print net\n",
    "        net = slim.conv2d(net, 512, [5,5], scope='conv_3',weights_initializer=trunc_normal(0.01))\n",
    "        print net\n",
    "        net = slim.conv2d(net, 256, [5,5], scope='conv_4',weights_initializer=trunc_normal(0.01))\n",
    "        print net\n",
    "        net = slim.conv2d(net, 128, [7,7], scope='conv_5',weights_initializer=trunc_normal(0.01))\n",
    "        print net\n",
    "    return net"
   ]
  },
  {
   "cell_type": "code",
   "execution_count": 49,
   "metadata": {
    "collapsed": true
   },
   "outputs": [],
   "source": [
    "def deconv_layer(deconv_input,reuse=None):\n",
    "    with tf.variable_scope('deconv_after_lstm',reuse=reuse):\n",
    "        net = slim.conv2d_transpose(deconv_input, 128, [7, 7], scope='deconv_5',weights_initializer=trunc_normal(0.01))\n",
    "        print net\n",
    "        net = slim.conv2d_transpose(net, 256, [5, 5], scope='deconv_4', weights_initializer=trunc_normal(0.01))\n",
    "        print net\n",
    "        net = slim.conv2d_transpose(net, 512, [5, 5], scope='deconv_3',weights_initializer=trunc_normal(0.01))\n",
    "        print net\n",
    "        net = slim.conv2d_transpose(net, 256, [5, 5], scope='deconv_2',weights_initializer=trunc_normal(0.01))\n",
    "        print net\n",
    "        net = slim.conv2d_transpose(net, 128, [7, 7], scope='deconv_1',weights_initializer=trunc_normal(0.01))\n",
    "        print net\n",
    "        net = slim.conv2d_transpose(net, 3, [7, 7], activation_fn=tf.tanh, scope='deconv_0',weights_initializer=trunc_normal(0.01))\n",
    "        print net\n",
    "        return net"
   ]
  },
  {
   "cell_type": "code",
   "execution_count": 50,
   "metadata": {
    "collapsed": true
   },
   "outputs": [],
   "source": [
    "deinp = tf.placeholder(tf.float32,(batch_size, 8, H, W, 128))\n",
    "inp_to_deconv_layer = tf.reshape(deinp,[-1,64,64,128])"
   ]
  },
  {
   "cell_type": "code",
   "execution_count": 51,
   "metadata": {},
   "outputs": [
    {
     "data": {
      "text/plain": [
       "<tf.Tensor 'Reshape_1:0' shape=(32, 64, 64, 128) dtype=float32>"
      ]
     },
     "execution_count": 51,
     "metadata": {},
     "output_type": "execute_result"
    }
   ],
   "source": [
    "inp_to_deconv_layer"
   ]
  },
  {
   "cell_type": "code",
   "execution_count": 52,
   "metadata": {},
   "outputs": [
    {
     "name": "stdout",
     "output_type": "stream",
     "text": [
      "Tensor(\"deconv_after_lstm/deconv_5/Relu:0\", shape=(32, 64, 64, 128), dtype=float32)\n",
      "Tensor(\"deconv_after_lstm/deconv_4/Relu:0\", shape=(32, 64, 64, 256), dtype=float32)\n",
      "Tensor(\"deconv_after_lstm/deconv_3/Relu:0\", shape=(32, 64, 64, 512), dtype=float32)\n",
      "Tensor(\"deconv_after_lstm/deconv_2/Relu:0\", shape=(32, 64, 64, 256), dtype=float32)\n",
      "Tensor(\"deconv_after_lstm/deconv_1/Relu:0\", shape=(32, 64, 64, 128), dtype=float32)\n",
      "Tensor(\"deconv_after_lstm/deconv_0/Tanh:0\", shape=(32, 64, 64, 3), dtype=float32)\n"
     ]
    },
    {
     "data": {
      "text/plain": [
       "<tf.Tensor 'deconv_after_lstm/deconv_0/Tanh:0' shape=(32, 64, 64, 3) dtype=float32>"
      ]
     },
     "execution_count": 52,
     "metadata": {},
     "output_type": "execute_result"
    }
   ],
   "source": [
    "deconv_layer(inp_to_deconv_layer)"
   ]
  },
  {
   "cell_type": "code",
   "execution_count": 53,
   "metadata": {},
   "outputs": [
    {
     "name": "stdout",
     "output_type": "stream",
     "text": [
      "Tensor(\"conv_before_lstm/conv_1/Relu:0\", shape=(32, 64, 64, 128), dtype=float32)\n",
      "Tensor(\"conv_before_lstm/conv_2/Relu:0\", shape=(32, 64, 64, 256), dtype=float32)\n",
      "Tensor(\"conv_before_lstm/conv_3/Relu:0\", shape=(32, 64, 64, 512), dtype=float32)\n",
      "Tensor(\"conv_before_lstm/conv_4/Relu:0\", shape=(32, 64, 64, 256), dtype=float32)\n",
      "Tensor(\"conv_before_lstm/conv_5/Relu:0\", shape=(32, 64, 64, 128), dtype=float32)\n",
      "Tensor(\"conv_before_lstm/conv_5/Relu:0\", shape=(32, 64, 64, 128), dtype=float32)\n",
      "(32, 64, 64, 128)\n",
      "Tensor(\"Reshape_2:0\", shape=(4, 8, 64, 64, 128), dtype=float32)\n",
      "Tensor(\"Slice:0\", shape=(4, 4, 64, 64, 128), dtype=float32)\n",
      "Tensor(\"Slice_1:0\", shape=(4, 4, 64, 64, 128), dtype=float32)\n"
     ]
    }
   ],
   "source": [
    "output_of_conv_layer = conv_layer(inp_to_conv_layer,None)\n",
    "cB, cH, cW, cC = output_of_conv_layer.get_shape().as_list()\n",
    "print (cB,cH,cW,cC)\n",
    "inp_time_based = tf.reshape(output_of_conv_layer, [-1,conv_data_timesteps, cH, cW, cC])\n",
    "print (inp_time_based)\n",
    "encoder_input = tf.slice(inp_time_based,[0,0,0,0,0],[batch_size,timesteps,cH,cW,cC])\n",
    "print (encoder_input)\n",
    "decoder_input = tf.slice(inp_time_based,[0,timesteps,0,0,0],[batch_size,timesteps,cH,cW,cC])\n",
    "print (decoder_input)"
   ]
  },
  {
   "cell_type": "code",
   "execution_count": 28,
   "metadata": {
    "collapsed": true
   },
   "outputs": [],
   "source": [
    "kernels = [[3,3],[5, 5]]\n",
    "H, W = 64, 64\n",
    "with tf.variable_scope('enc_conv_lstm_model'):\n",
    "    cells = []\n",
    "    for i, (each_filter,each_kernel) in enumerate(zip(filters,kernels)):\n",
    "        cell = ConvLSTMCell([H,W], each_filter, each_kernel,reuse=tf.get_variable_scope().reuse)\n",
    "        cells.append(cell)\n",
    "\n",
    "    cell = tf.nn.rnn_cell.MultiRNNCell(cells, state_is_tuple=True)  "
   ]
  },
  {
   "cell_type": "code",
   "execution_count": 29,
   "metadata": {},
   "outputs": [
    {
     "data": {
      "text/plain": [
       "<tensorflow.python.ops.rnn_cell_impl.MultiRNNCell at 0x7fe46d43e790>"
      ]
     },
     "execution_count": 29,
     "metadata": {},
     "output_type": "execute_result"
    }
   ],
   "source": [
    "cell"
   ]
  },
  {
   "cell_type": "code",
   "execution_count": 30,
   "metadata": {},
   "outputs": [
    {
     "data": {
      "text/plain": [
       "(LSTMStateTuple(c=<tf.Tensor 'MultiRNNCellZeroState/ConvLSTMCellZeroState/zeros:0' shape=(4, 64, 64, 128) dtype=float32>, h=<tf.Tensor 'MultiRNNCellZeroState/ConvLSTMCellZeroState/zeros_1:0' shape=(4, 64, 64, 128) dtype=float32>),\n",
       " LSTMStateTuple(c=<tf.Tensor 'MultiRNNCellZeroState/ConvLSTMCellZeroState_1/zeros:0' shape=(4, 64, 64, 128) dtype=float32>, h=<tf.Tensor 'MultiRNNCellZeroState/ConvLSTMCellZeroState_1/zeros_1:0' shape=(4, 64, 64, 128) dtype=float32>))"
      ]
     },
     "execution_count": 30,
     "metadata": {},
     "output_type": "execute_result"
    }
   ],
   "source": [
    "zero_state = cell.zero_state(batch_size,dtype=tf.float32)\n",
    "zero_state"
   ]
  },
  {
   "cell_type": "code",
   "execution_count": 31,
   "metadata": {
    "collapsed": true
   },
   "outputs": [],
   "source": [
    "encoder_output, encoder_state = tf.nn.dynamic_rnn(cell,inputs=encoder_input,initial_state=zero_state)"
   ]
  },
  {
   "cell_type": "code",
   "execution_count": 32,
   "metadata": {},
   "outputs": [
    {
     "data": {
      "text/plain": [
       "<tf.Tensor 'Slice:0' shape=(4, 4, 64, 64, 128) dtype=float32>"
      ]
     },
     "execution_count": 32,
     "metadata": {},
     "output_type": "execute_result"
    }
   ],
   "source": [
    "encoder_input"
   ]
  },
  {
   "cell_type": "code",
   "execution_count": 33,
   "metadata": {},
   "outputs": [
    {
     "data": {
      "text/plain": [
       "<tf.Tensor 'rnn/transpose:0' shape=(4, 4, 64, 64, 128) dtype=float32>"
      ]
     },
     "execution_count": 33,
     "metadata": {},
     "output_type": "execute_result"
    }
   ],
   "source": [
    "encoder_output"
   ]
  },
  {
   "cell_type": "code",
   "execution_count": 34,
   "metadata": {},
   "outputs": [
    {
     "data": {
      "text/plain": [
       "(LSTMStateTuple(c=<tf.Tensor 'rnn/while/Exit_2:0' shape=(4, 64, 64, 128) dtype=float32>, h=<tf.Tensor 'rnn/while/Exit_3:0' shape=(4, 64, 64, 128) dtype=float32>),\n",
       " LSTMStateTuple(c=<tf.Tensor 'rnn/while/Exit_4:0' shape=(4, 64, 64, 128) dtype=float32>, h=<tf.Tensor 'rnn/while/Exit_5:0' shape=(4, 64, 64, 128) dtype=float32>))"
      ]
     },
     "execution_count": 34,
     "metadata": {},
     "output_type": "execute_result"
    }
   ],
   "source": [
    "encoder_state"
   ]
  },
  {
   "cell_type": "code",
   "execution_count": 55,
   "metadata": {},
   "outputs": [
    {
     "data": {
      "text/plain": [
       "[4, 4, 64, 64, 128]"
      ]
     },
     "execution_count": 55,
     "metadata": {},
     "output_type": "execute_result"
    }
   ],
   "source": [
    "encoder_output.get_shape().as_list()"
   ]
  },
  {
   "cell_type": "code",
   "execution_count": null,
   "metadata": {
    "collapsed": true
   },
   "outputs": [],
   "source": [
    "kernels = [[3,3],[5, 5]]\n",
    "H, W = 64, 64\n",
    "with tf.variable_scope('dec_conv_lstm_model'):\n",
    "    cells = []\n",
    "    for i, (each_filter,each_kernel) in enumerate(zip(filters,kernels)):\n",
    "        cell = ConvLSTMCell([H,W], each_filter, each_kernel,reuse=tf.get_variable_scope().reuse)\n",
    "        cells.append(cell)\n",
    "\n",
    "    cell = tf.nn.rnn_cell.MultiRNNCell(cells, state_is_tuple=True)  "
   ]
  },
  {
   "cell_type": "markdown",
   "metadata": {},
   "source": [
    "## Model "
   ]
  },
  {
   "cell_type": "code",
   "execution_count": 103,
   "metadata": {
    "collapsed": true
   },
   "outputs": [],
   "source": [
    "batch_size = 16\n",
    "number_of_images_to_show = 4\n",
    "assert number_of_images_to_show <= batch_size\n",
    "shape = [64, 64]  # Image shape\n",
    "H, W = shape\n",
    "kernels = [[3, 3],[5, 5]]\n",
    "channels = C = 3\n",
    "filters = [128, 128]  # 2 stacked conv lstm filters\n",
    "enc_timesteps = 8 - 1\n",
    "dec_timesteps = 8\n",
    "timesteps = enc_timesteps + dec_timesteps\n",
    "images_summary_timesteps = [0, 2, 5, 7]\n",
    "\n",
    "# Create a placeholder for videos.\n",
    "inputs = tf.placeholder(tf.float32, [batch_size, timesteps] + shape + [channels],\n",
    "                             name=\"seq2seq_inputs\")  # (batch_size, timestep, H, W, C)\n",
    "outputs_exp = tf.placeholder(tf.float32, [batch_size, dec_timesteps] + shape + [channels],\n",
    "                                  name=\"seq2seq_outputs_exp\")  # (batch_size, timestep, H, W, C)\n",
    "teacher_force_sampling = tf.placeholder(tf.float32, [dec_timesteps], name=\"teacher_force_sampling\")\n",
    "prob_select_teacher = tf.placeholder(tf.float32, shape=(), name=\"prob_select_teacher\")\n",
    "\n",
    "# model output\n",
    "model_output = None\n",
    "\n",
    "# loss\n",
    "l2_loss = None\n",
    "\n",
    "# optimizer\n",
    "optimizer = None\n",
    "\n",
    "reuse_conv = None\n",
    "reuse_deconv = None"
   ]
  },
  {
   "cell_type": "code",
   "execution_count": 112,
   "metadata": {
    "collapsed": true
   },
   "outputs": [],
   "source": [
    "def conv_layer(conv_input):\n",
    "        # conv before lstm\n",
    "        with tf.variable_scope('conv_before_lstm',reuse=True):\n",
    "            net = slim.conv2d(conv_input, 128, [7,7], scope='conv_1',weights_initializer=trunc_normal(0.01))\n",
    "            net = slim.conv2d(net, 256, [5,5], scope='conv_2',weights_initializer=trunc_normal(0.01))\n",
    "            net = slim.conv2d(net, 512, [5,5], scope='conv_3',weights_initializer=trunc_normal(0.01))\n",
    "            net = slim.conv2d(net, 256, [5,5], scope='conv_4',weights_initializer=trunc_normal(0.01))\n",
    "            net = slim.conv2d(net, 128, [7,7], scope='conv_5',weights_initializer=trunc_normal(0.01))\n",
    "            reuse_conv = True\n",
    "            return net"
   ]
  },
  {
   "cell_type": "code",
   "execution_count": 120,
   "metadata": {
    "collapsed": true
   },
   "outputs": [],
   "source": [
    "def deconv_layer(deconv_input):\n",
    "        with tf.variable_scope('deconv_after_lstm',reuse=True):\n",
    "            net = slim.conv2d_transpose(deconv_input, 128, [7, 7], scope='deconv_5',weights_initializer=trunc_normal(0.01))\n",
    "            net = slim.conv2d_transpose(net, 256, [5, 5], scope='deconv_4', weights_initializer=trunc_normal(0.01))\n",
    "            net = slim.conv2d_transpose(net, 512, [5, 5], scope='deconv_3',weights_initializer=trunc_normal(0.01))\n",
    "            net = slim.conv2d_transpose(net, 256, [5, 5], scope='deconv_2',weights_initializer=trunc_normal(0.01))\n",
    "            net = slim.conv2d_transpose(net, 128, [7, 7], scope='deconv_1',weights_initializer=trunc_normal(0.01))\n",
    "            net = slim.conv2d_transpose(net, 3, [7, 7], activation_fn=tf.tanh, scope='deconv_0',weights_initializer=trunc_normal(0.01))\n",
    "            reuse_deconv = True\n",
    "            return net"
   ]
  },
  {
   "cell_type": "code",
   "execution_count": 109,
   "metadata": {
    "collapsed": true
   },
   "outputs": [],
   "source": [
    "def enc_lstm_layer(H,W):\n",
    "        with tf.variable_scope('enc_lstm_model'):\n",
    "            cells = []\n",
    "            for i, (each_filter, each_kernel) in enumerate(zip(filters,kernels)):\n",
    "                cell = ConvLSTMCell([H, W], each_filter, each_kernel,reuse=tf.get_variable_scope().reuse)\n",
    "                cells.append(cell)\n",
    "\n",
    "            cell = tf.nn.rnn_cell.MultiRNNCell(cells, state_is_tuple=True)\n",
    "            return cell\n",
    "\n",
    "def dec_lstm_layer(H,W):\n",
    "        with tf.variable_scope('dec_lstm_model'):\n",
    "            cells = []\n",
    "            for i, (each_filter, each_kernel) in enumerate(zip(filters,kernels)):\n",
    "                cell = ConvLSTMCell([H, W], each_filter, each_kernel,reuse=tf.get_variable_scope().reuse)\n",
    "                cells.append(cell)\n",
    "\n",
    "            cell = tf.nn.rnn_cell.MultiRNNCell(cells, state_is_tuple=True)\n",
    "            return cell"
   ]
  },
  {
   "cell_type": "code",
   "execution_count": 110,
   "metadata": {},
   "outputs": [],
   "source": [
    "H, W, C = shape[0], shape[1], channels\n",
    "input_conv_layer = tf.reshape(inputs, [-1,H,W,C])\n",
    "output_conv_layer = conv_layer(input_conv_layer)\n",
    "_, H, W, C = output_conv_layer.get_shape().as_list()\n",
    "lstm_shaped_input = tf.reshape(output_conv_layer, [-1,timesteps,H,W,C])"
   ]
  },
  {
   "cell_type": "code",
   "execution_count": 113,
   "metadata": {},
   "outputs": [
    {
     "data": {
      "text/plain": [
       "<tf.Tensor 'Reshape:0' shape=(240, 64, 64, 3) dtype=float32>"
      ]
     },
     "execution_count": 113,
     "metadata": {},
     "output_type": "execute_result"
    }
   ],
   "source": [
    "input_conv_layer"
   ]
  },
  {
   "cell_type": "code",
   "execution_count": 114,
   "metadata": {},
   "outputs": [
    {
     "data": {
      "text/plain": [
       "<tf.Tensor 'conv_before_lstm/conv_5/Relu:0' shape=(240, 64, 64, 128) dtype=float32>"
      ]
     },
     "execution_count": 114,
     "metadata": {},
     "output_type": "execute_result"
    }
   ],
   "source": [
    "output_conv_layer"
   ]
  },
  {
   "cell_type": "code",
   "execution_count": 115,
   "metadata": {},
   "outputs": [
    {
     "data": {
      "text/plain": [
       "<tf.Tensor 'Reshape_1:0' shape=(16, 15, 64, 64, 128) dtype=float32>"
      ]
     },
     "execution_count": 115,
     "metadata": {},
     "output_type": "execute_result"
    }
   ],
   "source": [
    "lstm_shaped_input"
   ]
  },
  {
   "cell_type": "code",
   "execution_count": 116,
   "metadata": {},
   "outputs": [],
   "source": [
    "# slice first part to feed to encoder and second to decoder\n",
    "encoder_inp = tf.slice(lstm_shaped_input,[0,0,0,0,0],[batch_size,enc_timesteps,H,W,C])\n",
    "decoder_inp = tf.slice(lstm_shaped_input,[0,enc_timesteps,0,0,0],[batch_size,dec_timesteps,H,W,C])\n",
    "\n",
    "# dynamic rnn as encoder\n",
    "encoder_cell = enc_lstm_layer(H,W)\n",
    "zero_state = encoder_cell.zero_state(batch_size, dtype=tf.float32)\n",
    "encoder_output, encoder_final_state = tf.nn.dynamic_rnn(encoder_cell,inputs=encoder_inp,initial_state=zero_state)"
   ]
  },
  {
   "cell_type": "code",
   "execution_count": 117,
   "metadata": {},
   "outputs": [
    {
     "data": {
      "text/plain": [
       "(LSTMStateTuple(c=<tf.Tensor 'rnn/while/Exit_2:0' shape=(16, 64, 64, 128) dtype=float32>, h=<tf.Tensor 'rnn/while/Exit_3:0' shape=(16, 64, 64, 128) dtype=float32>),\n",
       " LSTMStateTuple(c=<tf.Tensor 'rnn/while/Exit_4:0' shape=(16, 64, 64, 128) dtype=float32>, h=<tf.Tensor 'rnn/while/Exit_5:0' shape=(16, 64, 64, 128) dtype=float32>))"
      ]
     },
     "execution_count": 117,
     "metadata": {},
     "output_type": "execute_result"
    }
   ],
   "source": [
    "encoder_final_state"
   ]
  },
  {
   "cell_type": "code",
   "execution_count": 118,
   "metadata": {},
   "outputs": [
    {
     "data": {
      "text/plain": [
       "<tf.Tensor 'rnn/transpose:0' shape=(16, 7, 64, 64, 128) dtype=float32>"
      ]
     },
     "execution_count": 118,
     "metadata": {},
     "output_type": "execute_result"
    }
   ],
   "source": [
    "encoder_output"
   ]
  },
  {
   "cell_type": "code",
   "execution_count": 119,
   "metadata": {},
   "outputs": [],
   "source": [
    "# decoder cell \n",
    "decoder_cell = dec_lstm_layer(H,W)\n",
    "state = encoder_final_state\n",
    "input_for_first_time = tf.slice(decoder_inp, [0,0,0,0,0], [batch_size,1,H,W,C])\n",
    "input_for_first_time = tf.squeeze(input_for_first_time,[1])\n",
    "input_deconv, state = decoder_cell(input_for_first_time,state)\n",
    "predications = []\n",
    "deconv_output = deconv_layer(input_deconv)\n",
    "predications.append(deconv_output)"
   ]
  },
  {
   "cell_type": "code",
   "execution_count": 121,
   "metadata": {},
   "outputs": [
    {
     "data": {
      "text/plain": [
       "<tf.Tensor 'Squeeze:0' shape=(16, 64, 64, 128) dtype=float32>"
      ]
     },
     "execution_count": 121,
     "metadata": {},
     "output_type": "execute_result"
    }
   ],
   "source": [
    "input_for_first_time"
   ]
  },
  {
   "cell_type": "code",
   "execution_count": 122,
   "metadata": {},
   "outputs": [
    {
     "data": {
      "text/plain": [
       "<tf.Tensor 'multi_rnn_cell/cell_1/cell_1/conv_lstm_cell/mul_5:0' shape=(16, 64, 64, 128) dtype=float32>"
      ]
     },
     "execution_count": 122,
     "metadata": {},
     "output_type": "execute_result"
    }
   ],
   "source": [
    "input_deconv"
   ]
  },
  {
   "cell_type": "code",
   "execution_count": 123,
   "metadata": {},
   "outputs": [
    {
     "data": {
      "text/plain": [
       "<tf.Tensor 'deconv_after_lstm/deconv_0/Tanh:0' shape=(16, 64, 64, 3) dtype=float32>"
      ]
     },
     "execution_count": 123,
     "metadata": {},
     "output_type": "execute_result"
    }
   ],
   "source": [
    "deconv_output"
   ]
  },
  {
   "cell_type": "code",
   "execution_count": 125,
   "metadata": {},
   "outputs": [],
   "source": [
    "for i in range(1,dec_timesteps):\n",
    "    select_sampling = tf.greater_equal(prob_select_teacher, tf.gather(teacher_force_sampling,i))\n",
    "    # Conv on actual t_timestep input\n",
    "    ith_frame = tf.slice(decoder_inp,[0,i,0,0,0],[batch_size,1,64,64,3])\n",
    "    ith_frame = tf.squeeze(ith_frame,[1])\n",
    "    conv_output = conv_layer(ith_frame)\n",
    "    branch_1 = decoder_cell(conv_output, state)\n",
    "    # Conv on predicated t-1_timestep input\n",
    "    conv_output = conv_layer(deconv_output)\n",
    "    branch_2 = decoder_cell(conv_output, state)\n",
    "\n",
    "    deconv_input, state = tf.cond(select_sampling, lambda: branch_1, lambda: branch_2)\n",
    "    deconv_output = deconv_layer(deconv_input)\n",
    "    predications.append(deconv_output)  "
   ]
  },
  {
   "cell_type": "code",
   "execution_count": 126,
   "metadata": {},
   "outputs": [
    {
     "data": {
      "text/plain": [
       "[<tf.Tensor 'deconv_after_lstm/deconv_0/Tanh:0' shape=(16, 64, 64, 3) dtype=float32>,\n",
       " <tf.Tensor 'deconv_after_lstm_1/deconv_0/Tanh:0' shape=(16, 64, 64, 3) dtype=float32>,\n",
       " <tf.Tensor 'deconv_after_lstm_2/deconv_0/Tanh:0' shape=(16, 64, 64, 3) dtype=float32>,\n",
       " <tf.Tensor 'deconv_after_lstm_3/deconv_0/Tanh:0' shape=(16, 64, 64, 3) dtype=float32>,\n",
       " <tf.Tensor 'deconv_after_lstm_4/deconv_0/Tanh:0' shape=(16, 64, 64, 3) dtype=float32>,\n",
       " <tf.Tensor 'deconv_after_lstm_5/deconv_0/Tanh:0' shape=(16, 64, 64, 3) dtype=float32>,\n",
       " <tf.Tensor 'deconv_after_lstm_6/deconv_0/Tanh:0' shape=(16, 64, 64, 3) dtype=float32>,\n",
       " <tf.Tensor 'deconv_after_lstm_7/deconv_0/Tanh:0' shape=(16, 64, 64, 3) dtype=float32>]"
      ]
     },
     "execution_count": 126,
     "metadata": {},
     "output_type": "execute_result"
    }
   ],
   "source": [
    "predications"
   ]
  },
  {
   "cell_type": "code",
   "execution_count": 128,
   "metadata": {},
   "outputs": [],
   "source": [
    "model_output = tf.transpose(tf.stack(predications),perm=[1,0,2,3,4])"
   ]
  },
  {
   "cell_type": "code",
   "execution_count": 129,
   "metadata": {},
   "outputs": [
    {
     "data": {
      "text/plain": [
       "<tf.Tensor 'transpose_1:0' shape=(16, 8, 64, 64, 3) dtype=float32>"
      ]
     },
     "execution_count": 129,
     "metadata": {},
     "output_type": "execute_result"
    }
   ],
   "source": [
    "model_output"
   ]
  },
  {
   "cell_type": "code",
   "execution_count": 130,
   "metadata": {},
   "outputs": [
    {
     "data": {
      "text/plain": [
       "<tf.Tensor 'seq2seq_outputs_exp:0' shape=(16, 8, 64, 64, 3) dtype=float32>"
      ]
     },
     "execution_count": 130,
     "metadata": {},
     "output_type": "execute_result"
    }
   ],
   "source": [
    "outputs_exp"
   ]
  },
  {
   "cell_type": "code",
   "execution_count": 134,
   "metadata": {
    "collapsed": true
   },
   "outputs": [],
   "source": [
    "def l2_loss(generated_frames, expected_frames):\n",
    "    losses = []\n",
    "    for each_scale_gen_frames, each_scale_exp_frames in zip(generated_frames, expected_frames):\n",
    "        losses.append(tf.nn.l2_loss(tf.subtract(each_scale_gen_frames, each_scale_exp_frames)))\n",
    "    \n",
    "    loss = tf.reduce_mean(tf.stack(losses))\n",
    "    return loss\n",
    "\n",
    "def gdl_loss(generated_frames, expected_frames, alpha=2):\n",
    "    \"\"\"\n",
    "    difference with side pixel and below pixel\n",
    "    \"\"\"\n",
    "    scale_losses = []\n",
    "    for i in xrange(len(generated_frames)):\n",
    "        # create filters [-1, 1] and [[1],[-1]] for diffing to the left and down respectively.\n",
    "        pos = tf.constant(np.identity(3), dtype=tf.float32)\n",
    "        neg = -1 * pos\n",
    "        filter_x = tf.expand_dims(tf.stack([neg, pos]), 0)  # [-1, 1]\n",
    "        filter_y = tf.stack([tf.expand_dims(pos, 0), tf.expand_dims(neg, 0)])  # [[1],[-1]]\n",
    "        strides = [1, 1, 1, 1]  # stride of (1, 1)\n",
    "        padding = 'SAME'\n",
    "\n",
    "        gen_dx = tf.abs(tf.nn.conv2d(generated_frames[i], filter_x, strides, padding=padding))\n",
    "        gen_dy = tf.abs(tf.nn.conv2d(generated_frames[i], filter_y, strides, padding=padding))\n",
    "        gt_dx = tf.abs(tf.nn.conv2d(expected_frames[i], filter_x, strides, padding=padding))\n",
    "        gt_dy = tf.abs(tf.nn.conv2d(expected_frames[i], filter_y, strides, padding=padding))\n",
    "\n",
    "        grad_diff_x = tf.abs(gt_dx - gen_dx)\n",
    "        grad_diff_y = tf.abs(gt_dy - gen_dy)\n",
    "\n",
    "        scale_losses.append(tf.reduce_sum((grad_diff_x ** alpha + grad_diff_y ** alpha)))\n",
    "\n",
    "    # condense into one tensor and avg\n",
    "    return tf.reduce_mean(tf.stack(scale_losses))\n",
    "\n",
    "def total_loss(generated_frames, expected_frames, lambda_gdl=1.0, lambda_l2=1.0):\n",
    "      B, T, H, W, C = generated_frames.get_shape().as_list()\n",
    "      B1, T1, H1, W1, C1 = expected_frames.get_shape().as_list()\n",
    "      assert (B, T, H, W, C)==(B1, T1, H1, W1, C1),\"shape should be equal of gen and exp frames !\"\n",
    "      each_step_gen_frames = []\n",
    "      each_step_exp_frames = []\n",
    "      for each_i in range(T):\n",
    "            input_for_gen = tf.slice(generated_frames, [0,each_i,0,0,0], [B,1,H,W,C])\n",
    "            input_for_gen = tf.squeeze(input_for_gen,[1])\n",
    "            each_step_gen_frames.append(input_for_gen)\n",
    "            \n",
    "            input_for_exp = tf.slice(expected_frames, [0,each_i,0,0,0], [B,1,H,W,C])\n",
    "            input_for_exp = tf.squeeze(input_for_exp,[1])\n",
    "            each_step_exp_frames.append(input_for_exp)\n",
    "\n",
    "      total_loss_cal = (lambda_gdl * gdl_loss(each_step_gen_frames, each_step_exp_frames) + \n",
    "                     lambda_l2 * l2_loss(each_step_gen_frames, each_step_exp_frames))\n",
    "      return total_loss_cal"
   ]
  },
  {
   "cell_type": "code",
   "execution_count": 135,
   "metadata": {},
   "outputs": [
    {
     "name": "stdout",
     "output_type": "stream",
     "text": [
      "Tensor(\"Squeeze_25:0\", shape=(16, 64, 64, 3), dtype=float32)\n",
      "Tensor(\"Squeeze_26:0\", shape=(16, 64, 64, 3), dtype=float32)\n",
      "======\n",
      "Tensor(\"Squeeze_27:0\", shape=(16, 64, 64, 3), dtype=float32)\n",
      "Tensor(\"Squeeze_28:0\", shape=(16, 64, 64, 3), dtype=float32)\n",
      "======\n",
      "Tensor(\"Squeeze_29:0\", shape=(16, 64, 64, 3), dtype=float32)\n",
      "Tensor(\"Squeeze_30:0\", shape=(16, 64, 64, 3), dtype=float32)\n",
      "======\n",
      "Tensor(\"Squeeze_31:0\", shape=(16, 64, 64, 3), dtype=float32)\n",
      "Tensor(\"Squeeze_32:0\", shape=(16, 64, 64, 3), dtype=float32)\n",
      "======\n",
      "Tensor(\"Squeeze_33:0\", shape=(16, 64, 64, 3), dtype=float32)\n",
      "Tensor(\"Squeeze_34:0\", shape=(16, 64, 64, 3), dtype=float32)\n",
      "======\n",
      "Tensor(\"Squeeze_35:0\", shape=(16, 64, 64, 3), dtype=float32)\n",
      "Tensor(\"Squeeze_36:0\", shape=(16, 64, 64, 3), dtype=float32)\n",
      "======\n",
      "Tensor(\"Squeeze_37:0\", shape=(16, 64, 64, 3), dtype=float32)\n",
      "Tensor(\"Squeeze_38:0\", shape=(16, 64, 64, 3), dtype=float32)\n",
      "======\n",
      "Tensor(\"Squeeze_39:0\", shape=(16, 64, 64, 3), dtype=float32)\n",
      "Tensor(\"Squeeze_40:0\", shape=(16, 64, 64, 3), dtype=float32)\n",
      "======\n"
     ]
    }
   ],
   "source": [
    "l = total_loss(model_output,outputs_exp)"
   ]
  },
  {
   "cell_type": "code",
   "execution_count": 136,
   "metadata": {},
   "outputs": [
    {
     "data": {
      "text/plain": [
       "<tf.Tensor 'Slice:0' shape=(16, 7, 64, 64, 128) dtype=float32>"
      ]
     },
     "execution_count": 136,
     "metadata": {},
     "output_type": "execute_result"
    }
   ],
   "source": [
    "encoder_inp"
   ]
  },
  {
   "cell_type": "code",
   "execution_count": 137,
   "metadata": {},
   "outputs": [
    {
     "data": {
      "text/plain": [
       "<tf.Tensor 'Slice_1:0' shape=(16, 8, 64, 64, 128) dtype=float32>"
      ]
     },
     "execution_count": 137,
     "metadata": {},
     "output_type": "execute_result"
    }
   ],
   "source": [
    "decoder_inp"
   ]
  },
  {
   "cell_type": "code",
   "execution_count": null,
   "metadata": {
    "collapsed": true
   },
   "outputs": [],
   "source": []
  }
 ],
 "metadata": {
  "kernelspec": {
   "display_name": "Python 2",
   "language": "python",
   "name": "python2"
  },
  "language_info": {
   "codemirror_mode": {
    "name": "ipython",
    "version": 2
   },
   "file_extension": ".py",
   "mimetype": "text/x-python",
   "name": "python",
   "nbconvert_exporter": "python",
   "pygments_lexer": "ipython2",
   "version": "2.7.13"
  }
 },
 "nbformat": 4,
 "nbformat_minor": 2
}
